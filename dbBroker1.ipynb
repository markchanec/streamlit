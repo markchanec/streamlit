{
 "cells": [
  {
   "cell_type": "code",
   "execution_count": 81,
   "metadata": {
    "ExecuteTime": {
     "end_time": "2021-02-10T09:53:58.923632Z",
     "start_time": "2021-02-10T09:53:58.844359Z"
    }
   },
   "outputs": [
    {
     "name": "stdout",
     "output_type": "stream",
     "text": [
      "CSV0 size = (175109, 3)\n"
     ]
    }
   ],
   "source": [
    "#online sharing version for share.streamlit.io\n",
    "import pandas as pd\n",
    "import numpy as np\n",
    "from scipy.stats import norm\n",
    "\n",
    "#constants used apart from column names\n",
    "#any function, variables with 0 or 1 suffix are to be used in conjunction\n",
    "CSV0 = \"csv/final_output_valuation_quantiles1.csv\"\n",
    "df0 = pd.read_csv(CSV0)\n",
    "print(\"CSV0 size =\", df0.shape) \n",
    "\n",
    "# CSV1 = \"csv/final_output_valuation_all1.csv\"\n",
    "# df1 = pd.read_csv(CSV1)\n",
    "# print(\"CSV1 size =\", df1.shape)"
   ]
  },
  {
   "cell_type": "code",
   "execution_count": 82,
   "metadata": {
    "ExecuteTime": {
     "end_time": "2021-02-10T09:53:58.939927Z",
     "start_time": "2021-02-10T09:53:58.925656Z"
    }
   },
   "outputs": [],
   "source": [
    "def init_webapp(id):\n",
    "    print(\"ID = \",id)\n",
    "    Iqr_df = df0.query(\"token_ids==@id\")\n",
    "    Iqr_list = Iqr_df.values.tolist()\n",
    "    Iqr_list[0].pop(0) #drop id\n",
    "    \n",
    "#     Kde_df = df1.query(\"token_ids==@id\")\n",
    "#     Kde_list = Kde_df.values.tolist()\n",
    "#     Kde_list[0].pop(0)\n",
    "\n",
    "    # to infer values in CSV1 from CSV0, assume perfect normal distribution\n",
    "    # The 5% and 95% quantiles are μ−1.645σ and μ+1.645σ\n",
    "    q5 = Iqr_list[0][0]\n",
    "    q95 = Iqr_list[0][1]\n",
    "    mu = np.log(q95) - np.log(q5)\n",
    "    sigma = (np.log(q95) - np.log(q5) ) / (1.645*2)\n",
    "    x = np.linspace(mu - 3*sigma, mu + 3*sigma, 100)\n",
    "    Kde_list = norm.pdf(x, mu, sigma)\n",
    "    \n",
    "    return Iqr_list[0], np.exp(Kde_list)"
   ]
  },
  {
   "cell_type": "code",
   "execution_count": 83,
   "metadata": {
    "ExecuteTime": {
     "end_time": "2021-02-10T09:53:58.955515Z",
     "start_time": "2021-02-10T09:53:58.941701Z"
    }
   },
   "outputs": [],
   "source": [
    "def getRecord(id):\n",
    "    init_webapp(id)"
   ]
  },
  {
   "cell_type": "code",
   "execution_count": 84,
   "metadata": {
    "ExecuteTime": {
     "end_time": "2021-02-10T09:53:58.970903Z",
     "start_time": "2021-02-10T09:53:58.956547Z"
    }
   },
   "outputs": [],
   "source": [
    "def getRandomID():\n",
    "    rand = df0.sample()\n",
    "\n",
    "    return [rand['token_ids'].values[0]]"
   ]
  },
  {
   "cell_type": "code",
   "execution_count": 85,
   "metadata": {
    "ExecuteTime": {
     "end_time": "2021-02-10T09:53:59.002113Z",
     "start_time": "2021-02-10T09:53:58.971628Z"
    }
   },
   "outputs": [
    {
     "name": "stdout",
     "output_type": "stream",
     "text": [
      "ID =  61505.0\n",
      "[0.047807468, 0.06575241799999999]\n",
      "[ 1.04681133  1.05629779  1.06751141  1.08073407  1.09629051  1.11455542\n",
      "  1.13596179  1.16101125  1.19028654  1.22446679  1.26434619  1.31085697\n",
      "  1.36509755  1.42836697  1.50220732  1.58845547  1.68930638  1.80739018\n",
      "  1.94586566  2.10853303  2.29996894  2.52568672  2.79232396  3.10785876\n",
      "  3.48185344  3.92572088  4.45300323  5.07964432  5.82422594  6.70812338\n",
      "  7.75551767  8.99318156 10.44993636 12.15566071 14.13972803 16.42876442\n",
      " 19.04366365 21.99588063 25.28315298 28.88496944 32.75829509 36.83424261\n",
      " 41.01649482 45.18228002 49.18652562 52.8694482  56.06730214 58.62539019\n",
      " 60.41186794 61.33050274 61.33050274 60.41186794 58.62539019 56.06730214\n",
      " 52.8694482  49.18652562 45.18228002 41.01649482 36.83424261 32.75829509\n",
      " 28.88496944 25.28315298 21.99588063 19.04366365 16.42876442 14.13972803\n",
      " 12.15566071 10.44993636  8.99318156  7.75551767  6.70812338  5.82422594\n",
      "  5.07964432  4.45300323  3.92572088  3.48185344  3.10785876  2.79232396\n",
      "  2.52568672  2.29996894  2.10853303  1.94586566  1.80739018  1.68930638\n",
      "  1.58845547  1.50220732  1.42836697  1.36509755  1.31085697  1.26434619\n",
      "  1.22446679  1.19028654  1.16101125  1.13596179  1.11455542  1.09629051\n",
      "  1.08073407  1.06751141  1.05629779  1.04681133]\n"
     ]
    }
   ],
   "source": [
    "if __name__ == \"__main__\":\n",
    "    random = getRandomID()\n",
    "    test1, test2 = init_webapp(random[0])\n",
    "\n",
    "    print(test1)\n",
    "    print(test2)"
   ]
  }
 ],
 "metadata": {
  "hide_input": false,
  "kernelspec": {
   "display_name": "Python 3",
   "language": "python",
   "name": "python3"
  },
  "language_info": {
   "codemirror_mode": {
    "name": "ipython",
    "version": 3
   },
   "file_extension": ".py",
   "mimetype": "text/x-python",
   "name": "python",
   "nbconvert_exporter": "python",
   "pygments_lexer": "ipython3",
   "version": "3.7.6"
  },
  "toc": {
   "base_numbering": 1,
   "nav_menu": {},
   "number_sections": true,
   "sideBar": true,
   "skip_h1_title": false,
   "title_cell": "Table of Contents",
   "title_sidebar": "Contents",
   "toc_cell": false,
   "toc_position": {},
   "toc_section_display": true,
   "toc_window_display": false
  }
 },
 "nbformat": 4,
 "nbformat_minor": 4
}
